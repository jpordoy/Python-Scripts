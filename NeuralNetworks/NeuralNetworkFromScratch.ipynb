{
 "cells": [
  {
   "cell_type": "markdown",
   "metadata": {},
   "source": [
    "## Neural Network Baics"
   ]
  },
  {
   "cell_type": "markdown",
   "metadata": {},
   "source": [
    "Neural Networks consist of the following componenos\n",
    "An input layer, x\n",
    "An arbitrary amount of hidden layers\n",
    "An output layer, ŷ\n",
    "A set of weights and biases between each layer, W and b\n",
    "A choice of activation function for each hidden layer, σ. In this tutorial, we’ll use a Sigmoid activation function.\n"
   ]
  },
  {
   "cell_type": "markdown",
   "metadata": {},
   "source": [
    "Weight is the parameter within a neural network that transforms input data within the network's \n",
    "hidden layers. ... As an input enters the node, it gets multiplied by a weight value and the resulting\n",
    "utput is either observed, or passed to the next layer in the neural network.\n"
   ]
  },
  {
   "cell_type": "code",
   "execution_count": 1,
   "metadata": {},
   "outputs": [
    {
     "ename": "NameError",
     "evalue": "name 'x' is not defined",
     "output_type": "error",
     "traceback": [
      "\u001b[1;31m---------------------------------------------------------------------------\u001b[0m",
      "\u001b[1;31mNameError\u001b[0m                                 Traceback (most recent call last)",
      "\u001b[1;32m<ipython-input-1-84b89d233133>\u001b[0m in \u001b[0;36m<module>\u001b[1;34m\u001b[0m\n\u001b[0;32m     42\u001b[0m \u001b[1;33m\u001b[0m\u001b[0m\n\u001b[0;32m     43\u001b[0m \u001b[1;33m\u001b[0m\u001b[0m\n\u001b[1;32m---> 44\u001b[1;33m \u001b[0mnn\u001b[0m\u001b[1;33m(\u001b[0m\u001b[0mx\u001b[0m\u001b[1;33m,\u001b[0m\u001b[0my\u001b[0m\u001b[1;33m)\u001b[0m\u001b[1;33m\u001b[0m\u001b[1;33m\u001b[0m\u001b[0m\n\u001b[0m\u001b[0;32m     45\u001b[0m \u001b[1;33m\u001b[0m\u001b[0m\n\u001b[0;32m     46\u001b[0m \u001b[1;33m\u001b[0m\u001b[0m\n",
      "\u001b[1;31mNameError\u001b[0m: name 'x' is not defined"
     ]
    }
   ],
   "source": [
    "#creating a neural network object\n",
    "\n",
    "import numpy as np\n",
    "\n",
    "#self represents the instance of the class. \n",
    "#By using the “self” keyword we can access the attributes and methods of the class in python.\n",
    "\n",
    "\n",
    "class NeuralNetwork:\n",
    "\n",
    "    def __init__(self,x,y):\n",
    "        self.input      = x #nerual network input\n",
    "        \n",
    "        #creates an array of the given shape and populates it with random samples from a uniform distribution \n",
    "        self.weights1   = np.random.rand(self.input.shape[1],4)#sets the number of layers for the neural network \n",
    "        self.weights2   = np.random.rand(4,1) \n",
    "        self.y          = y\n",
    "        \n",
    "        #Return a new array of given shape and type, filled with zero\n",
    "        self.output     = np.zeros(y.shape)# used to display the nerual nets ouput values\n",
    "        \n",
    "             \n",
    "        \n",
    "        \n",
    "    #use a sigmoid activiation function        \n",
    "    def feedforward(self): \n",
    "        self.layer1 = sigmoid(np.dot(self.input, self.weights1))\n",
    "        self.output = sigmoid(np.dot(self.layer1, self.weights2))\n",
    "        \n",
    "        \n",
    "    def backprop(self):\n",
    "        # application of the chain rule to find derivative of the loss function with respect to weights2 and weights1\n",
    "        d_weights2 = np.dot(self.layer1.T, (2*(self.y - self.output) * sigmoid_derivative(self.output)))\n",
    "        d_weights1 = np.dot(self.input.T,  (np.dot(2*(self.y - self.output) * sigmoid_derivative(self.output), self.weights2.T) * sigmoid_derivative(self.layer1)))\n",
    "\n",
    "        # update the weights with the derivative (slope) of the loss function\n",
    "        self.weights1 += d_weights1\n",
    "        self.weights2 += d_weights2\n",
    "        (x,y,self)\n",
    "        \n",
    "nn = NeuralNetwork\n",
    "\n",
    "\n",
    "nn(x,y)\n",
    "    \n",
    "        \n",
    "        "
   ]
  },
  {
   "cell_type": "markdown",
   "metadata": {},
   "source": [
    "Naturally, the right values for the weights and biases determines the strength of the predictions. The process of fine-tuning the weights and biases from the input data is known as training the Neural Network.\n",
    "Each iteration of the training process consists of the following steps:\n",
    "Calculating the predicted output ŷ, known as feedforward\n",
    "Updating the weights and biases, known as backpropagation"
   ]
  },
  {
   "cell_type": "code",
   "execution_count": null,
   "metadata": {},
   "outputs": [],
   "source": []
  },
  {
   "cell_type": "code",
   "execution_count": null,
   "metadata": {},
   "outputs": [],
   "source": []
  }
 ],
 "metadata": {
  "kernelspec": {
   "display_name": "Python 3",
   "language": "python",
   "name": "python3"
  },
  "language_info": {
   "codemirror_mode": {
    "name": "ipython",
    "version": 3
   },
   "file_extension": ".py",
   "mimetype": "text/x-python",
   "name": "python",
   "nbconvert_exporter": "python",
   "pygments_lexer": "ipython3",
   "version": "3.7.3"
  }
 },
 "nbformat": 4,
 "nbformat_minor": 2
}
